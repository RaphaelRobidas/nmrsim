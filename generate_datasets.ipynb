{
 "cells": [
  {
   "cell_type": "markdown",
   "metadata": {},
   "source": [
    "# Work In Progress\n",
    "May use notebooks to generate sets of \"accepted data\" for tests."
   ]
  },
  {
   "cell_type": "code",
   "execution_count": 1,
   "metadata": {},
   "outputs": [],
   "source": [
    "import os\n",
    "import sys\n",
    "import numpy as np"
   ]
  },
  {
   "cell_type": "code",
   "execution_count": 2,
   "metadata": {},
   "outputs": [],
   "source": [
    "home_path = os.path.abspath(os.path.join('..'))\n",
    "if home_path not in sys.path:\n",
    "    sys.path.append(home_path)"
   ]
  },
  {
   "cell_type": "code",
   "execution_count": 3,
   "metadata": {},
   "outputs": [],
   "source": [
    "tests_path = os.path.abspath(os.path.join('..', 'tests'))\n",
    "if tests_path not in sys.path:\n",
    "    sys.path.append(tests_path)"
   ]
  },
  {
   "cell_type": "code",
   "execution_count": 4,
   "metadata": {},
   "outputs": [],
   "source": [
    "from nmrtools.nmrmath import hamiltonian, nspinspec"
   ]
  },
  {
   "cell_type": "code",
   "execution_count": 5,
   "metadata": {},
   "outputs": [],
   "source": [
    "from tests.simulation_data import rioux"
   ]
  },
  {
   "cell_type": "code",
   "execution_count": 7,
   "metadata": {},
   "outputs": [
    {
     "data": {
      "text/plain": [
       "(array([430., 265., 300.]), array([[ 0. ,  7. , 15. ],\n",
       "        [ 7. ,  0. ,  1.5],\n",
       "        [15. ,  1.5,  0. ]]))"
      ]
     },
     "execution_count": 7,
     "metadata": {},
     "output_type": "execute_result"
    }
   ],
   "source": [
    "rioux()"
   ]
  },
  {
   "cell_type": "code",
   "execution_count": 12,
   "metadata": {},
   "outputs": [
    {
     "name": "stdout",
     "output_type": "stream",
     "text": [
      "h3 loaded\n"
     ]
    },
    {
     "data": {
      "text/plain": [
       "matrix([[ 503.375,    0.   ,    0.   ,    0.   ,    0.   ,    0.   ,\n",
       "            0.   ,    0.   ],\n",
       "        [   0.   ,  195.125,    0.75 ,    0.   ,    7.5  ,    0.   ,\n",
       "            0.   ,    0.   ],\n",
       "        [   0.   ,    0.75 ,  234.125,    0.   ,    3.5  ,    0.   ,\n",
       "            0.   ,    0.   ],\n",
       "        [   0.   ,    0.   ,    0.   ,  -72.625,    0.   ,    3.5  ,\n",
       "            7.5  ,    0.   ],\n",
       "        [   0.   ,    7.5  ,    3.5  ,    0.   ,   62.375,    0.   ,\n",
       "            0.   ,    0.   ],\n",
       "        [   0.   ,    0.   ,    0.   ,    3.5  ,    0.   , -230.875,\n",
       "            0.75 ,    0.   ],\n",
       "        [   0.   ,    0.   ,    0.   ,    7.5  ,    0.   ,    0.75 ,\n",
       "         -199.875,    0.   ],\n",
       "        [   0.   ,    0.   ,    0.   ,    0.   ,    0.   ,    0.   ,\n",
       "            0.   , -491.625]])"
      ]
     },
     "execution_count": 12,
     "metadata": {},
     "output_type": "execute_result"
    }
   ],
   "source": [
    "hamiltonian(*rioux())"
   ]
  },
  {
   "cell_type": "code",
   "execution_count": 14,
   "metadata": {},
   "outputs": [
    {
     "name": "stdout",
     "output_type": "stream",
     "text": [
      "h3 loaded\n"
     ]
    },
    {
     "data": {
      "text/plain": [
       "[(260.66152857482973, 0.23011249131787825),\n",
       " (291.3191136690316, 0.22882003310401844),\n",
       " (419.5193577561387, 0.2910724454555947),\n",
       " (292.8468885409387, 0.21381231157251776),\n",
       " (426.4877446901903, 0.2662986769673388),\n",
       " (262.1893034467369, 0.2487606172641341),\n",
       " (434.5231959501799, 0.23004586196807364),\n",
       " (267.62991550888137, 0.24855578963215685),\n",
       " (306.3229518630728, 0.2925168028407963),\n",
       " (441.49158288423155, 0.2125727818192929),\n",
       " (307.85072673497996, 0.2648680204713063),\n",
       " (269.1576903807885, 0.27256416758689167)]"
      ]
     },
     "execution_count": 14,
     "metadata": {},
     "output_type": "execute_result"
    }
   ],
   "source": [
    "nspinspec(*rioux())\n"
   ]
  },
  {
   "cell_type": "code",
   "execution_count": null,
   "metadata": {},
   "outputs": [],
   "source": []
  }
 ],
 "metadata": {
  "kernelspec": {
   "display_name": "Python (nmr)",
   "language": "python",
   "name": "nmr"
  },
  "language_info": {
   "codemirror_mode": {
    "name": "ipython",
    "version": 3
   },
   "file_extension": ".py",
   "mimetype": "text/x-python",
   "name": "python",
   "nbconvert_exporter": "python",
   "pygments_lexer": "ipython3",
   "version": "3.7.3"
  }
 },
 "nbformat": 4,
 "nbformat_minor": 2
}
