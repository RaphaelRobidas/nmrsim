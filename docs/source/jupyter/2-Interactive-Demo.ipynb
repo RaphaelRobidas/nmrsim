{
 "cells": [
  {
   "cell_type": "markdown",
   "metadata": {},
   "source": [
    "Interactive NMR Demo\n",
    "====================\n",
    "\n",
    "There are many ways to create interactive plots in a Juypter notebook, and the visualization ecosystem is constantly changing. For example the Holoviz tool suite (http://holoviz.org/) looks promising (especially the possibility of creating a web application using Panel). Another interesting option is nbinteract (https://www.nbinteract.com/).\n",
    "\n",
    "This notebook currently uses ipywidgets and bokeh to create some simple NMR demonstrations."
   ]
  },
  {
   "cell_type": "code",
   "execution_count": null,
   "metadata": {},
   "outputs": [],
   "source": [
    "import os\n",
    "import sys\n",
    "module_path = os.path.abspath(os.path.join('..'))\n",
    "if module_path not in sys.path:\n",
    "    sys.path.append(module_path)"
   ]
  },
  {
   "cell_type": "code",
   "execution_count": null,
   "metadata": {},
   "outputs": [],
   "source": [
    "from nmrsim.dnmr import dnmr_AB\n",
    "help(dnmr_AB)"
   ]
  },
  {
   "cell_type": "code",
   "execution_count": null,
   "metadata": {},
   "outputs": [],
   "source": [
    "args = (\n",
    "    200,  # va\n",
    "    100,  # vb\n",
    "    10,   # J\n",
    "    0.1,  # k\n",
    "    0.5   # w\n",
    ")\n"
   ]
  },
  {
   "cell_type": "code",
   "execution_count": null,
   "metadata": {},
   "outputs": [],
   "source": [
    "from ipywidgets import interact"
   ]
  },
  {
   "cell_type": "code",
   "execution_count": null,
   "metadata": {},
   "outputs": [],
   "source": [
    "from bokeh.io import push_notebook, show, output_notebook\n",
    "from bokeh.plotting import figure\n",
    "output_notebook()"
   ]
  },
  {
   "cell_type": "code",
   "execution_count": null,
   "metadata": {},
   "outputs": [],
   "source": [
    "# get initial xy data\n",
    "x, y = dnmr_AB(*args)"
   ]
  },
  {
   "cell_type": "code",
   "execution_count": null,
   "metadata": {},
   "outputs": [],
   "source": [
    "p = figure(title = 'DNMR AB Interactive Plot',\n",
    "          plot_height=300,\n",
    "          plot_width=600)\n",
    "r = p.line(x, y)"
   ]
  },
  {
   "cell_type": "code",
   "execution_count": null,
   "metadata": {},
   "outputs": [],
   "source": [
    "def interactive_ab(va=110, vb=100, J=10, k=0.1, w=0.5):\n",
    "    args = (va, vb, J, k, w)\n",
    "    x, y = dnmr_AB(*args)\n",
    "    r.data_source.data['y'] = y\n",
    "    r.data_source.data['x'] = x\n",
    "    push_notebook()\n"
   ]
  },
  {
   "cell_type": "code",
   "execution_count": null,
   "metadata": {},
   "outputs": [],
   "source": [
    "show(p, notebook_handle=True)\n",
    "interact(interactive_ab, k=(0.1, 100))"
   ]
  }
 ],
 "metadata": {
  "kernelspec": {
   "display_name": "nmrsim",
   "language": "python",
   "name": "nmrsim"
  },
  "language_info": {
   "codemirror_mode": {
    "name": "ipython",
    "version": 3
   },
   "file_extension": ".py",
   "mimetype": "text/x-python",
   "name": "python",
   "nbconvert_exporter": "python",
   "pygments_lexer": "ipython3",
   "version": "3.7.5"
  }
 },
 "nbformat": 4,
 "nbformat_minor": 4
}
