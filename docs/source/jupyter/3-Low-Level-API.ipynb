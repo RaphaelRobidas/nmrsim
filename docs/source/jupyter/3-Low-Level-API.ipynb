{
 "cells": [
  {
   "cell_type": "markdown",
   "metadata": {},
   "source": [
    "# Overview of the Lower-Level nmrsim API"
   ]
  },
  {
   "cell_type": "markdown",
   "metadata": {},
   "source": [
    "This notebook gives a tour of some of the lower-level API functions. We recommend that you start with the [**API Introduction**](./1-Introduction-to-API.ipynb) notebook for a higher-level overview."
   ]
  },
  {
   "cell_type": "code",
   "execution_count": null,
   "metadata": {},
   "outputs": [],
   "source": [
    "import os\n",
    "import sys\n",
    "import numpy as np\n",
    "import matplotlib as mpl\n",
    "mpl.rcParams['figure.dpi']= 300\n",
    "%matplotlib inline"
   ]
  },
  {
   "cell_type": "code",
   "execution_count": null,
   "metadata": {},
   "outputs": [],
   "source": [
    "%config InlineBackend.figure_format = 'svg'  # makes inline plot look less blurry"
   ]
  },
  {
   "cell_type": "code",
   "execution_count": null,
   "metadata": {},
   "outputs": [],
   "source": [
    "home_path = os.path.abspath(os.path.join('..', '..', '..'))\n",
    "if home_path not in sys.path:\n",
    "    sys.path.append(home_path)"
   ]
  },
  {
   "cell_type": "code",
   "execution_count": null,
   "metadata": {},
   "outputs": [],
   "source": [
    "tests_path = os.path.abspath(os.path.join('..', '..', '..', 'tests'))\n",
    "if tests_path not in sys.path:\n",
    "    sys.path.append(tests_path)"
   ]
  },
  {
   "cell_type": "code",
   "execution_count": null,
   "metadata": {},
   "outputs": [],
   "source": [
    "from nmrsim import plt, qm"
   ]
  },
  {
   "cell_type": "markdown",
   "metadata": {},
   "source": [
    "## Scenario: user wants to plot a spectrum for an ABX 3-spin system.\n"
   ]
  },
  {
   "cell_type": "markdown",
   "metadata": {},
   "source": [
    "The API-Introduction notebook shows a simulation of an ABX 3-spin system using the SpinSystem class. Here, the simulation will be performed first with higher-level functions that take frequency(v) and intensity(J) arguments and return peaklists."
   ]
  },
  {
   "cell_type": "code",
   "execution_count": null,
   "metadata": {},
   "outputs": [],
   "source": [
    "# This dataset is for the vinyl group of vinyl acetate, as used in:\n",
    "# http://www.users.csbsju.edu/~frioux/nmr/ABC-NMR-Tensor.pdf\n",
    "def rioux():\n",
    "    v = np.array([430.0, 265.0, 300.0])\n",
    "    J = np.zeros((3, 3))\n",
    "    J[0, 1] = 7.0\n",
    "    J[0, 2] = 15.0\n",
    "    J[1, 2] = 1.50\n",
    "    J = J + J.T\n",
    "    return v, J"
   ]
  },
  {
   "cell_type": "code",
   "execution_count": null,
   "metadata": {},
   "outputs": [],
   "source": [
    "v, J = rioux()\n",
    "print('v: ', v)  # frequencies in Hz\n",
    "print('J: \\n', J)  # matrix of coupling constants"
   ]
  },
  {
   "cell_type": "markdown",
   "metadata": {},
   "source": [
    "The J matrix is constructed so that J[a, b] is the coupling constant between v[a] and v[b]. The diagonal elements should be 0."
   ]
  },
  {
   "cell_type": "markdown",
   "metadata": {},
   "source": [
    "### Method 1: using qm_spinsystem"
   ]
  },
  {
   "cell_type": "code",
   "execution_count": null,
   "metadata": {},
   "outputs": [],
   "source": [
    "abx_system = qm.qm_spinsystem(v, J)\n",
    "abx_system"
   ]
  },
  {
   "cell_type": "code",
   "execution_count": null,
   "metadata": {},
   "outputs": [],
   "source": [
    "plt.mplplot(abx_system, y_max=0.2);"
   ]
  },
  {
   "cell_type": "markdown",
   "metadata": {},
   "source": [
    "*{`qm_spinsystem` is a wrapper that selects one of two functions to perform the calculation: `qm.secondorder_dense` and `qm.secondorder_sparse`. With the default qm_spinsystem keyword arguments `cache=True` and `sparse=True`, the faster function `secondorder_sparse` is used. However, if at some point the sparse library becomes unavailable, or if caching of partial solutions is not possible, the slower `secondorder_dense` function will be used. These functions can also be used as direct swap-ins for `qm_spinsystem`.}*"
   ]
  },
  {
   "cell_type": "markdown",
   "metadata": {},
   "source": [
    "### Method 2: via the spin Hamiltonian\n",
    "This is not recommended for casual users, but may be of interest for teaching NMR theory, or if you want to take control of the process (e.g. obtain a Hamiltonian, and then simulate a spin pulse with it {a feature not currently implemented in `nmrsim`}). A description of the math behind the qm simulations is in the **qm_explanation.ipynb notebook** (currently under construction)."
   ]
  },
  {
   "cell_type": "markdown",
   "metadata": {},
   "source": [
    "There are two versions of the Hamiltonian constructor. `qm.hamiltonian_sparse` uses cached sparse arrays for faster speed, and `qm.hamiltonian_dense` does not. Here we will use the former."
   ]
  },
  {
   "cell_type": "code",
   "execution_count": null,
   "metadata": {},
   "outputs": [],
   "source": [
    "H = qm.hamiltonian_sparse(v, J)\n",
    "print(H)\n",
    "print(H.todense())"
   ]
  },
  {
   "cell_type": "markdown",
   "metadata": {},
   "source": [
    "SpinSystem defaults to second-order simulation of a spin system. If the SpinSystem object is instantiated with the `second_order=False` keyword argument, or if the SpinSystem.second_order attribute is set to `False`, first-order simulation will be performed instead."
   ]
  },
  {
   "cell_type": "markdown",
   "metadata": {},
   "source": [
    "`qm.solve_hamilton` accepts a *dense* Hamiltonian array and the number of spins in the system, to give a peaklist:"
   ]
  },
  {
   "cell_type": "code",
   "execution_count": null,
   "metadata": {},
   "outputs": [],
   "source": [
    "peaklist = qm.solve_hamiltonian(H.todense(), nspins=3)\n",
    "peaklist"
   ]
  },
  {
   "cell_type": "markdown",
   "metadata": {},
   "source": [
    "To normalize the intensities so that they add up to 3 (the number of nuclei in the spin system), use `nmrsim.math.normalize_peaklist`:"
   ]
  },
  {
   "cell_type": "code",
   "execution_count": null,
   "metadata": {},
   "outputs": [],
   "source": [
    "from nmrsim.math import normalize_peaklist\n",
    "plist_normalized = normalize_peaklist(peaklist, 3)\n",
    "plist_normalized"
   ]
  },
  {
   "cell_type": "code",
   "execution_count": null,
   "metadata": {},
   "outputs": [],
   "source": [
    "plt.mplplot(plist_normalized, y_max=0.2);"
   ]
  },
  {
   "cell_type": "markdown",
   "metadata": {},
   "source": [
    "### Method 3: using a discrete mathematical solution\n",
    "The `nmrsim.discrete` module has discrete solutions for some common spin systems. Some are exact (such as discrete.AB for AB quartets) while others are approximations (e.g. `partial.ABX` for an ABX system) or return only part of the solution (e.g. `partial.AAXX` for an AA'XX' system).\n",
    "\n",
    "The `partial.ABX` function uses an approximation that assumes the X nucleus is very far away in chemical shift from A and B. If accuracy is required, use a second-order calculation instead.\n",
    "\n",
    "The functions in `nmrsim.discrete` also take different arguments than those usual throughout the rest of the nmrsim library. They are derived from similar functions in [Hans Reich's WINDNMR program](https://www.chem.wisc.edu/areas/reich/plt/windnmr.htm) and use similar inputs."
   ]
  },
  {
   "cell_type": "code",
   "execution_count": null,
   "metadata": {},
   "outputs": [],
   "source": [
    "from nmrsim.discrete import ABX\n",
    "help(ABX)"
   ]
  },
  {
   "cell_type": "code",
   "execution_count": null,
   "metadata": {},
   "outputs": [],
   "source": [
    "peaklist = ABX(1.5, 7, 15, (265-300), ((265+300)/2), 430)  # JAB, JAX, JBX, Vab, Vcentr, vx\n",
    "plt.mplplot(peaklist, y_max=0.2);"
   ]
  },
  {
   "cell_type": "markdown",
   "metadata": {},
   "source": [
    "### Method 4: a first-order simulation \n",
    "The same v/J arguments can be used by `nmrsim.firstorder.first_order_spin_system` to return a peaklist for a first-order simulation:"
   ]
  },
  {
   "cell_type": "code",
   "execution_count": null,
   "metadata": {},
   "outputs": [],
   "source": [
    "from nmrsim.firstorder import first_order_spin_system\n",
    "peaklist = first_order_spin_system(v, J)\n",
    "plt.mplplot(peaklist, y_max = 0.2);"
   ]
  },
  {
   "cell_type": "markdown",
   "metadata": {},
   "source": [
    "Individual multiplets can also be modeled using `nmrsim.firstorder.multiplet`. For example, for the X part of the ABX system as a first-order signal, i.e. 430 Hz, 1H, dd, *J* = 15, 7 Hz:"
   ]
  },
  {
   "cell_type": "code",
   "execution_count": null,
   "metadata": {},
   "outputs": [],
   "source": [
    "from nmrsim.firstorder import multiplet\n",
    "X = multiplet((430, 1), [(15, 1), (7, 1)])  # args (frequency, integration), [(J, # of couplings)...]\n",
    "print(X)\n",
    "plt.mplplot(X, y_max=0.2);"
   ]
  },
  {
   "cell_type": "markdown",
   "metadata": {},
   "source": [
    "## Scenario: modeling DNMR spectra"
   ]
  },
  {
   "cell_type": "markdown",
   "metadata": {},
   "source": [
    "The nmrsim.dnmr module provides functions as well as classes for the computation of DNMR lineshapes. Currently there are models for two systems: two uncoupled spins (`dnmr.dnmr_two_singlets`), and two coupled spins (`dnmr.dnmr_AB`, i.e an AB or AX system at the slow-exchange limit). "
   ]
  },
  {
   "cell_type": "code",
   "execution_count": null,
   "metadata": {},
   "outputs": [],
   "source": [
    "from nmrsim.dnmr import dnmr_two_singlets\n",
    "help(dnmr_two_singlets)"
   ]
  },
  {
   "cell_type": "code",
   "execution_count": null,
   "metadata": {},
   "outputs": [],
   "source": [
    "frequency, intensity = dnmr_two_singlets(165, 135, 1.5, 0.5, 0.5, 0.5) # va, vb, ka, wa, wb, pa\n",
    "frequency[:10], intensity[:10]"
   ]
  },
  {
   "cell_type": "markdown",
   "metadata": {},
   "source": [
    "To plot lineshape data such as the above (a pair of lists, one for all x coordinates and one for the corresponding y coordinates), you can use the visualization library of your choice. For a quick matplotlib representation, you can use `nmrsim.plt.mplplot_lineshape`:"
   ]
  },
  {
   "cell_type": "code",
   "execution_count": null,
   "metadata": {},
   "outputs": [],
   "source": [
    "from nmrsim.plt import mplplot_lineshape\n",
    "mplplot_lineshape(frequency, intensity);"
   ]
  },
  {
   "cell_type": "markdown",
   "metadata": {},
   "source": [
    "Coalescence for this system occurs at k ~= 65.9 s<sup>-1</sup>:"
   ]
  },
  {
   "cell_type": "code",
   "execution_count": null,
   "metadata": {},
   "outputs": [],
   "source": [
    "mplplot_lineshape(*dnmr_two_singlets(165, 135, 65.9, 0.5, 0.5, 0.5));"
   ]
  }
 ],
 "metadata": {
  "kernelspec": {
   "display_name": "Python 3 (ipykernel)",
   "language": "python",
   "name": "python3"
  },
  "language_info": {
   "codemirror_mode": {
    "name": "ipython",
    "version": 3
   },
   "file_extension": ".py",
   "mimetype": "text/x-python",
   "name": "python",
   "nbconvert_exporter": "python",
   "pygments_lexer": "ipython3",
   "version": "3.8.16"
  }
 },
 "nbformat": 4,
 "nbformat_minor": 4
}
