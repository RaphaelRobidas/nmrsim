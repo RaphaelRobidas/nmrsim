{
 "cells": [
  {
   "cell_type": "markdown",
   "metadata": {},
   "source": [
    "$$\\newcommand{\\ket}[1]{\\left|{#1}\\right\\rangle}$$\n",
    "$$\\newcommand{\\bra}[1]{\\left\\langle{#1}\\right|}$$\n"
   ]
  },
  {
   "cell_type": "markdown",
   "metadata": {},
   "source": [
    "# Explanation of First-Generation QM Model"
   ]
  },
  {
   "cell_type": "markdown",
   "metadata": {},
   "source": [
    "# Disclaimer\n",
    "\n",
    "The author is not an NMR spectroscopist by training. Ultimately, I would like to understand, and be able to explain, the quantum mechanics behind the entire process of simulating an NMR spectrum. For now, here is a \"recipe\" of the steps to arrive at the spin Hamiltonian, and how its eigensolution can be used to calculate frequencies and intensities.\n",
    "\n",
    "Two sources in particular enabled this:\n",
    "1. Materials by Ilya Kuprov at SpinDynamics.org, particularly [Module I, Lecture 5](http://spindynamics.org/documents/sd_m1_lecture_05.pdf) and the Matlab code of [Module II, Lecture 05](http://spindynamics.org/documents/sd_m2_lecture_05.pdf) and [06](http://spindynamics.org/documents/sd_m2_lecture_06.pdf).\n",
    "2. [Materials](http://www.users.csbsju.edu/~frioux/workinprogress.html#Spectroscopy) by Frank Rioux at St. John's University and College of St. Benedict. In particular, [*ABC Proton NMR Using Tensor Algebra*](http://www.users.csbsju.edu/~frioux/nmr/ABC-NMR-Tensor.pdf) was very helpful."
   ]
  },
  {
   "cell_type": "code",
   "execution_count": 1,
   "metadata": {},
   "outputs": [
    {
     "data": {
      "text/html": [
       "<style>.container { width:100% !important; }</style>"
      ],
      "text/plain": [
       "<IPython.core.display.HTML object>"
      ]
     },
     "metadata": {},
     "output_type": "display_data"
    }
   ],
   "source": [
    "from IPython.core.display import display, HTML\n",
    "display(HTML(\"<style>.container { width:100% !important; }</style>\"))"
   ]
  },
  {
   "cell_type": "code",
   "execution_count": 2,
   "metadata": {},
   "outputs": [],
   "source": [
    "import os\n",
    "import sys\n",
    "\n",
    "import numpy as np\n",
    "from math import sqrt\n",
    "from scipy.linalg import eigh\n",
    "from scipy.sparse import kron, csc_matrix, csr_matrix, lil_matrix, bmat\n",
    "\n",
    "# import bokeh.io\n",
    "# import bokeh.plotting\n"
   ]
  },
  {
   "cell_type": "code",
   "execution_count": 3,
   "metadata": {},
   "outputs": [],
   "source": [
    "home_path = os.path.abspath(os.path.join('..', '..', '..'))\n",
    "if home_path not in sys.path:\n",
    "    sys.path.append(home_path)\n",
    "\n",
    "tests_path = os.path.abspath(os.path.join('..', '..', '..', 'tests'))\n",
    "if tests_path not in sys.path:\n",
    "    sys.path.append(tests_path)"
   ]
  },
  {
   "cell_type": "markdown",
   "metadata": {},
   "source": [
    "## Constructing the Hamiltonian From Scratch"
   ]
  },
  {
   "cell_type": "markdown",
   "metadata": {},
   "source": [
    "Start with the Pauli matrices:\n",
    "\\begin{align}\n",
    "\\sigma_x = \\begin{pmatrix}0& \\frac{1}{2}\\\\ \\frac{1}{2}&0\\end{pmatrix}, \n",
    "\\sigma_y = \\begin{pmatrix}0& -\\frac{i}{2}\\\\ \\frac{i}{2}&0\\end{pmatrix}, \n",
    "\\sigma_z = \\begin{pmatrix}\\frac{1}{2}& 0\\\\ 0&-\\frac{1}{2}\\end{pmatrix}\n",
    "\\end{align}\n",
    "\n",
    "plus the identity matrix $I = \\begin{pmatrix}1&0\\\\0&1\\end{pmatrix}$"
   ]
  },
  {
   "cell_type": "code",
   "execution_count": 4,
   "metadata": {},
   "outputs": [],
   "source": [
    "sigma_x = np.array([[0, 1 / 2], [1 / 2, 0]])\n",
    "sigma_y = np.array([[0, -1j / 2], [1j / 2, 0]])\n",
    "sigma_z = np.array([[1 / 2, 0], [0, -1 / 2]])\n",
    "unit = np.array([[1, 0], [0, 1]])"
   ]
  },
  {
   "cell_type": "markdown",
   "metadata": {},
   "source": [
    "The required inputs are a list of frequencies $\\nu_i$ and a matrix of $J_{ij}$ coupling constants:"
   ]
  },
  {
   "cell_type": "code",
   "execution_count": 5,
   "metadata": {},
   "outputs": [],
   "source": [
    "v = [10.0, 20.0]\n",
    "J = np.array([[0, 5], [5, 0]])\n"
   ]
  },
  {
   "cell_type": "markdown",
   "metadata": {},
   "source": [
    "From these \"ingredients\", the steps for computing the spin Hamiltonian are:"
   ]
  },
  {
   "cell_type": "markdown",
   "metadata": {},
   "source": [
    "### Step 1: Each spin gets its own $L_x$, $L_y$ and $L_z$ operators.\n",
    "\n",
    "These are formed from Kronecker products between $\\sigma_{x/y/z}$ and $I$ operators.\n",
    "\n",
    "Each individual product, for n spins, uses 1$\\sigma_{x/y/z}$ and (n - 1) $I$ operators. They all differ in where in the sequence the $\\sigma_{x/y/z}$ operator is placed.\n",
    "\n",
    "For 3 spins, and using $L_z$ for example:\n",
    "\n",
    "\\begin{align}\n",
    "L_{z_1} &= \\sigma_z \\otimes I \\otimes I\\\\\n",
    "L_{z_2} &= I \\otimes \\sigma_z \\otimes I\\\\\n",
    "L_{z_3} &= I \\otimes I \\otimes \\sigma_z\n",
    "\\end{align}\n"
   ]
  },
  {
   "cell_type": "markdown",
   "metadata": {},
   "source": [
    "These operators are stored in a 4-D numpy array of shape (3, n, 2<sup>n</sup>, 2<sup>n</sup>). This can be visualized as a 2D matrix of 2D matrices, where every column contains a set of $L_{x/y/z}$ for one of the spins.\n",
    "\\begin{align}\n",
    "L_{col} = \\begin{pmatrix}\n",
    "L_{x_1}& L_{x_2}&\\dots & L_{x_n}\\\\ \n",
    "L_{y_1}& L_{y_2}&\\dots & L_{y_n}\\\\\n",
    "L_{z_1}& L_{z_2}&\\dots & L_{z_n}\n",
    "\\end{pmatrix}\n",
    "\\end{align}"
   ]
  },
  {
   "cell_type": "code",
   "execution_count": 6,
   "metadata": {},
   "outputs": [],
   "source": [
    "nspins = len(v)\n",
    "L = np.empty((3, nspins, 2 ** nspins, 2 ** nspins), dtype=np.complex128)  \n",
    "for n in range(nspins):\n",
    "    Lx_current = 1\n",
    "    Ly_current = 1\n",
    "    Lz_current = 1\n",
    "\n",
    "    for k in range(nspins):\n",
    "        if k == n:\n",
    "            Lx_current = np.kron(Lx_current, sigma_x)\n",
    "            Ly_current = np.kron(Ly_current, sigma_y)\n",
    "            Lz_current = np.kron(Lz_current, sigma_z)\n",
    "        else:\n",
    "            Lx_current = np.kron(Lx_current, unit)\n",
    "            Ly_current = np.kron(Ly_current, unit)\n",
    "            Lz_current = np.kron(Lz_current, unit)\n",
    "\n",
    "    L[0][n] = Lx_current\n",
    "    L[1][n] = Ly_current\n",
    "    L[2][n] = Lz_current"
   ]
  },
  {
   "cell_type": "markdown",
   "metadata": {},
   "source": [
    "### Step 2: Create the sums of cartesian products of $L$ operators.\n",
    "\n",
    "The off-diagonal components of the Hamiltonian  $H$ require calculating Cartesian products of the $L$ operators. Python is a slow language, but numpy/sparse calculations use faster C/Fortran libraries. \"Vectorizing\" computations to use these math routines as much as possible (e.g. to avoid \"for\" loops and \"if\" statements) can dramatically speed up the computations, which otherwise become quite slow for 8+ spins. The fastest nmrsim computations pre-solve parts of the solutions (spin operators, their products, and transition matrices) as sparse matrices. \n",
    "\n",
    "All possible (Cartesian) products of spin operators can effectively be generated by taking the product of $L_{col}$ matrix with its transpose $L_{row}$:\n",
    "\n",
    "\\begin{align}\n",
    "L_{row} = \\begin{pmatrix}\n",
    "L_{x_1}& L_{y_1}&L_{z_1}\\\\ \n",
    "L_{x_2}& L_{y_2}&L_{z_2}\\\\\n",
    "\\vdots&\\vdots&\\vdots\\\\\n",
    "L_{x_n}& L_{y_n}&L_{z_n}\n",
    "\\end{pmatrix}\n",
    "\\end{align}\n",
    "\n",
    "\\begin{align}\n",
    "L_{product}&= L_{row} \\cdot L_{col} \\\\\n",
    "&=\\Tiny\\begin{pmatrix}\n",
    "L_{x_1}L_{x_1}+L_{y_1}L_{y_1}+L_{z_1}L_{z_1}&L_{x_1}L_{x_2}+L_{y_1}L_{y_2}+L_{z_1}L_{z_2}&\\dots&L_{x_1}L_{x_n}+L_{y_1}L_{y_n}+L_{z_1}L_{z_n}\\\\\n",
    "L_{x_2}L_{x_1}+L_{y_2}L_{y_1}+L_{z_2}L_{z_1}&L_{x_2}L_{x_2}+L_{y_2}L_{y_2}+L_{z_2}L_{z_2}&\\dots&L_{x_2}L_{x_n}+L_{y_2}L_{y_n}+L_{z_2}L_{z_n}\\\\\n",
    "\\vdots& &\\ddots& \\\\\n",
    "L_{x_n}L_{x_1}+L_{y_n}L_{y_1}+L_{z_n}L_{z_1}&L_{x_n}L_{x_2}+L_{y_n}L_{y_2}+L_{z_n}L_{z_2}&\\dots&L_{x_n}L_{x_n}+L_{y_n}L_{y_n}+L_{z_n}L_{z_n}\\\\\n",
    "\\end{pmatrix}\n",
    "\\end{align}\n",
    "\n",
    "\n",
    "\n"
   ]
  },
  {
   "cell_type": "markdown",
   "metadata": {},
   "source": [
    "This may be computationally wasteful, since not many of these products are likely to be required. However, they can all be calculated \"outside of Python\", and then saved as sparse arrays for future retrieval, largely negating the computational expense.\n",
    "\n",
    "How to accomplish this in numpy is not straightforward to a novice (such as the author of this notebook), but fortunately there's StackOverflow: \n",
    "\n",
    "https://stackoverflow.com/questions/47752324/matrix-multiplication-on-4d-numpy-arrays\n"
   ]
  },
  {
   "cell_type": "code",
   "execution_count": 7,
   "metadata": {},
   "outputs": [],
   "source": [
    "L_T = L.transpose(1, 0, 2, 3)\n",
    "Lproduct = np.tensordot(L_T, L, axes=((1, 3), (0, 2))).swapaxes(1, 2)"
   ]
  },
  {
   "cell_type": "markdown",
   "metadata": {},
   "source": [
    "### Step 3: Add the Zeeman (on-diagonal) terms to the Hamiltonian.\n",
    "\n",
    "\\begin{align}\n",
    "H_{Zeeman} = \\sum_{i=1}^n \\nu_i L_{z_i}\n",
    "\\end{align}"
   ]
  },
  {
   "cell_type": "code",
   "execution_count": 8,
   "metadata": {},
   "outputs": [
    {
     "data": {
      "text/plain": [
       "array([[ 15.+0.j,   0.+0.j,   0.+0.j,   0.+0.j],\n",
       "       [  0.+0.j,  -5.+0.j,   0.+0.j,   0.+0.j],\n",
       "       [  0.+0.j,   0.+0.j,   5.+0.j,   0.+0.j],\n",
       "       [  0.+0.j,   0.+0.j,   0.+0.j, -15.+0.j]])"
      ]
     },
     "execution_count": 8,
     "metadata": {},
     "output_type": "execute_result"
    }
   ],
   "source": [
    "Lz = L[2]  # array of Lz operators\n",
    "H = np.tensordot(v, Lz, axes=1)\n",
    "H"
   ]
  },
  {
   "cell_type": "markdown",
   "metadata": {},
   "source": [
    "### Step 4: Add the J-coupling (off-diagonal) terms to the Hamiltonian.\n",
    "\n",
    "\\begin{align}\n",
    "H_J &= \\sum_{i=1}^n \\sum_{j=1}^n \\frac{J_{ij}}{2} (L_{x_i}L_{x_j}+L_{y_i}L_{y_j}+L_{z_i}L_{z_j})\\\\\n",
    "H &= H_{Zeeman} + H_J\n",
    "\\end{align}\n",
    "\n",
    "The magical numpy calculation that achieves this looks a lot less scary than the math notation!"
   ]
  },
  {
   "cell_type": "code",
   "execution_count": 9,
   "metadata": {},
   "outputs": [
    {
     "data": {
      "text/plain": [
       "array([[ 16.25+0.j,   0.  +0.j,   0.  +0.j,   0.  +0.j],\n",
       "       [  0.  +0.j,  -6.25+0.j,   2.5 +0.j,   0.  +0.j],\n",
       "       [  0.  +0.j,   2.5 +0.j,   3.75+0.j,   0.  +0.j],\n",
       "       [  0.  +0.j,   0.  +0.j,   0.  +0.j, -13.75+0.j]])"
      ]
     },
     "execution_count": 9,
     "metadata": {},
     "output_type": "execute_result"
    }
   ],
   "source": [
    "J = np.array(J)  # convert to numpy array first\n",
    "scalars = 0.5 * J\n",
    "H += np.tensordot(scalars, Lproduct, axes=2)\n",
    "H"
   ]
  },
  {
   "cell_type": "markdown",
   "metadata": {},
   "source": [
    "## Extracting Signal Frequencies and Intensities From the Hamiltonian\n",
    "\n",
    "To simulate a \"modern\" NMR experiment, a 90° pulse and FID acquisition is simulated, followed by Fourier transform. This is the approach used in Kuprov's Matlab code, and should be the required approach for any experiment requiring a more elaborate pulse sequence. \n",
    "\n",
    "For a simple NMR spectrum, we can adopt a \"continuous wave spectrometer\" approach. We can find the resonance frequencies and their relative intensities directly from the spin Hamiltonian. The time-independent Schrodinger equation $H\\Psi = E\\Psi$ is solved for eigenvectors and corresponding eigenvalues. \n",
    "\n",
    "For each $\\psi_i$, the eigenvectors are the coefficients $c_n$ for each pure spin state. For a two-spin system, for example,\n",
    "\n",
    "$\\psi_i = c_1\\ket{\\alpha\\alpha} + c_2\\ket{\\alpha\\beta} + c_3\\ket{\\beta\\alpha} + c_4\\ket{\\beta\\beta}$.\n",
    "\n",
    "and the corresponding eigenvector would be \\begin{bmatrix}c_1\\\\c_2\\\\c_3\\\\c_4\\end{bmatrix}"
   ]
  },
  {
   "cell_type": "markdown",
   "metadata": {},
   "source": [
    "For a one-spin system, the two states for \"spin-up\" ($\\ \\ket{\\uparrow}$ or $\\ket{\\alpha}$) and for \"spin-down\" ($\\ \\ket{\\downarrow}$ or $\\ket{\\beta}$) are represented by vectors $\\begin{bmatrix}1\\\\0\\end{bmatrix}$ and $\\begin{bmatrix}0\\\\1\\end{bmatrix}$, respectively. For \"pure\" multiple-spin states, their vectors are obtained by taking tensor products of these vectors. For example:\n",
    "\n",
    "\\begin{align}\n",
    "\\ket{\\alpha\\alpha} &=\n",
    "\\begin{bmatrix}1\\\\0\\end{bmatrix}\\otimes\\begin{bmatrix}1\\\\0\\end{bmatrix} = \\begin{bmatrix}1\\\\0\\\\0\\\\0\\end{bmatrix}\n",
    "\\\\\n",
    "\\ket{\\alpha\\beta} &= \\begin{bmatrix}1\\\\0\\end{bmatrix}\\otimes\\begin{bmatrix}0\\\\1\\end{bmatrix} = \\begin{bmatrix}0\\\\1\\\\0\\\\0\\end{bmatrix}\n",
    "\\\\\n",
    "\\ket{\\beta\\alpha} &= \\begin{bmatrix}0\\\\1\\end{bmatrix}\\otimes\\begin{bmatrix}1\\\\0\\end{bmatrix} = \\begin{bmatrix}0\\\\0\\\\1\\\\0\\end{bmatrix}\n",
    "\\\\\n",
    "\\ket{\\beta\\beta} &= \\begin{bmatrix}0\\\\1\\end{bmatrix}\\otimes\\begin{bmatrix}0\\\\1\\end{bmatrix} = \\begin{bmatrix}0\\\\0\\\\0\\\\1\\end{bmatrix}\n",
    "\\end{align}"
   ]
  },
  {
   "cell_type": "markdown",
   "metadata": {},
   "source": [
    "A (coincidental?) consequence of this is that the index for $H$, expressed in binary form as a series of 0s and 1s, is the eigenvector for the associated pure spin state (cf. Rioux's *ABC Proton NMR Using Tensor Algebra*). \n",
    "\n",
    "Since allowed transitions change the total spin of a system by $\\pm$ 1, this is analogous to transitions only being allowed between spin states whose binary indices only differ at one bit. In computing terms, if the Hamming weight of the two indices differ by exactly 1, the transition is allowed. "
   ]
  },
  {
   "cell_type": "markdown",
   "metadata": {},
   "source": [
    "Knowing this, we can create a transition probability matrix $T$, where $T_{ij} = 1$ if a transition between states $i$ and $j$ are allowed, and $0$ if not."
   ]
  },
  {
   "cell_type": "code",
   "execution_count": 10,
   "metadata": {},
   "outputs": [
    {
     "data": {
      "text/plain": [
       "array([[0., 1., 1., 0.],\n",
       "       [1., 0., 0., 1.],\n",
       "       [1., 0., 0., 1.],\n",
       "       [0., 1., 1., 0.]])"
      ]
     },
     "execution_count": 10,
     "metadata": {},
     "output_type": "execute_result"
    }
   ],
   "source": [
    "# function was optimized by only calculating upper triangle and then adding\n",
    "# the lower.\n",
    "n = 2 ** nspins\n",
    "T = np.zeros((n, n))\n",
    "for i in range(n - 1):\n",
    "    for j in range(i + 1, n):\n",
    "        if bin(i ^ j).count('1') == 1:\n",
    "            T[i, j] = 1\n",
    "T += T.T\n",
    "T"
   ]
  },
  {
   "cell_type": "markdown",
   "metadata": {},
   "source": [
    "The eigenvector solutions for the Hamiltonian include two pure states (\"all-up/$\\alpha$\" and \"all-down/$\\beta$\", plus mixed states. We can construct a matrix $V_{col}$ where each column of the matrix is an eigenvector solution, in their indexed order:\n",
    "\n",
    "\\begin{align}\n",
    "V_{col} = \\begin{pmatrix}\n",
    "\\ket{\\psi_1} &\\ket{\\psi_2} &\\dots &\\ket{\\psi_n}\n",
    "\\end{pmatrix}\n",
    "=\\begin{pmatrix}\n",
    "\\begin{bmatrix}c_1\\\\c_2\\\\\\vdots\\\\c_n\\end{bmatrix}_1\n",
    "&\\begin{bmatrix}c_1\\\\c_2\\\\\\vdots\\\\c_n\\end{bmatrix}_2\n",
    "&\\dots\n",
    "&\\begin{bmatrix}c_1\\\\c_2\\\\\\vdots\\\\c_n\\end{bmatrix}_n\n",
    "\\end{pmatrix}\n",
    "\\end{align}\n",
    "\n",
    "and where its transpose $V_{row} = V_{col}^T$ has an eigenvector for each row:\n",
    "\n",
    "\\begin{align}\n",
    "V_{row}=\\begin{pmatrix}\n",
    "\\bra{\\psi_1} \\\\\n",
    "\\bra{\\psi_2} \\\\\n",
    "\\vdots\\\\\n",
    "\\bra{\\psi_n} \\\\\n",
    "\\end{pmatrix}\n",
    "=\\begin{pmatrix}\n",
    "\\begin{bmatrix}c_1&c_2&\\dots&c_n\\end{bmatrix}_1\\\\\n",
    "\\begin{bmatrix}c_1&c_2&\\dots&c_n\\end{bmatrix}_2\\\\\n",
    "\\vdots\\\\\n",
    "\\begin{bmatrix}c_1&c_2&\\dots&c_n\\end{bmatrix}_n\\\\\n",
    "\\end{pmatrix}\n",
    "\\end{align}\n"
   ]
  },
  {
   "cell_type": "markdown",
   "metadata": {},
   "source": [
    "The intensity matrix $I$ can be obtained by taking $V_{row}\\cdot T \\cdot V_{col}$ and squaring it element-wise, so that $I_{ij}$ is the relative probability of a transition between the $\\psi_i$ and $\\psi_j$ states. The difference in energy between the two states gives the frequency in Hz."
   ]
  },
  {
   "cell_type": "markdown",
   "metadata": {},
   "source": [
    "The numpy procedures to calculate (frequency, intensity) signals from the eigensolution of H is again rather magical:"
   ]
  },
  {
   "cell_type": "code",
   "execution_count": 11,
   "metadata": {},
   "outputs": [
    {
     "data": {
      "text/plain": [
       "array([[ 6.90983006,  0.5527864 ],\n",
       "       [18.09016994,  1.4472136 ],\n",
       "       [23.09016994,  0.5527864 ],\n",
       "       [11.90983006,  1.4472136 ]])"
      ]
     },
     "execution_count": 11,
     "metadata": {},
     "output_type": "execute_result"
    }
   ],
   "source": [
    "E, V = np.linalg.eigh(H)\n",
    "V = V.real\n",
    "I = np.square(V.T.dot(T.dot(V)))\n",
    "I_upper = np.triu(I)  # symmetry makes it possible to use only one half of the matrix for faster calculation\n",
    "E_matrix = np.abs(E[:, np.newaxis] - E)\n",
    "E_upper = np.triu(E_matrix)\n",
    "combo = np.stack([E_upper, I_upper])\n",
    "iv = combo.reshape(2, I.shape[0] ** 2).T\n",
    "cutoff = 0.001  # an arbitrary cutoff where peaks below this intensity are filtered out of the solution\n",
    "peaklist =  iv[iv[:, 1] >= cutoff]\n",
    "peaklist"
   ]
  },
  {
   "cell_type": "markdown",
   "metadata": {},
   "source": [
    "Currently the mplplot function requires a list of tuples. An easy way to convert is to make sure that this simulation is normalized in intensity for 2H:"
   ]
  },
  {
   "cell_type": "code",
   "execution_count": 12,
   "metadata": {},
   "outputs": [
    {
     "data": {
      "text/plain": [
       "[(6.9098300562505255, 0.276393202250021),\n",
       " (18.090169943749473, 0.7236067977499789),\n",
       " (23.090169943749473, 0.276393202250021),\n",
       " (11.909830056250525, 0.7236067977499789)]"
      ]
     },
     "execution_count": 12,
     "metadata": {},
     "output_type": "execute_result"
    }
   ],
   "source": [
    "from nmrsim.math import normalize_peaklist\n",
    "normalized_plist = normalize_peaklist(peaklist, 2)\n",
    "normalized_plist"
   ]
  },
  {
   "cell_type": "code",
   "execution_count": 13,
   "metadata": {},
   "outputs": [],
   "source": [
    "from nmrsim.plt import mplplot"
   ]
  },
  {
   "cell_type": "code",
   "execution_count": 14,
   "metadata": {},
   "outputs": [
    {
     "name": "stdout",
     "output_type": "stream",
     "text": [
      "[<matplotlib.lines.Line2D object at 0x625760950>]\n"
     ]
    },
    {
     "data": {
      "image/png": "[encoded data removed]",
      "text/plain": [
       "<Figure size 432x288 with 1 Axes>"
      ]
     },
     "metadata": {
      "needs_background": "light"
     },
     "output_type": "display_data"
    }
   ],
   "source": [
    "mplplot(normalized_plist);"
   ]
  }
 ],
 "metadata": {
  "kernelspec": {
   "display_name": "Python 3",
   "language": "python",
   "name": "python3"
  },
  "language_info": {
   "codemirror_mode": {
    "name": "ipython",
    "version": 3
   },
   "file_extension": ".py",
   "mimetype": "text/x-python",
   "name": "python",
   "nbconvert_exporter": "python",
   "pygments_lexer": "ipython3",
   "version": "3.7.5"
  }
 },
 "nbformat": 4,
 "nbformat_minor": 4
}
