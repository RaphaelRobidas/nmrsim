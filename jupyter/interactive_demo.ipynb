{
 "cells": [
  {
   "cell_type": "markdown",
   "metadata": {},
   "source": [
    "Interactive NMR Demo\n",
    "====================\n",
    "\n",
    "There are many ways to create interactive plots in a Juypter notebook, and the visualization ecosystem is constantly changing. For example the Holoviz tool suite (http://holoviz.org/) looks promising (especially the possibility of creating a web application using Panel). Another interesting option is nbinteract (https://www.nbinteract.com/).\n",
    "\n",
    "This notebook currently uses ipywidgets and plotly to create some simple NMR demonstrations."
   ]
  },
  {
   "cell_type": "code",
   "execution_count": 1,
   "metadata": {},
   "outputs": [
    {
     "data": {
      "text/html": [
       "<script type=\"text/javascript\">window.PlotlyConfig = {MathJaxConfig: 'local'};</script><script type=\"text/javascript\">if (window.MathJax) {MathJax.Hub.Config({SVG: {font: \"STIX-Web\"}});}</script><script>requirejs.config({paths: { 'plotly': ['https://cdn.plot.ly/plotly-latest.min']},});if(!window._Plotly) {require(['plotly'],function(plotly) {window._Plotly=plotly;});}</script>"
      ],
      "text/vnd.plotly.v1+html": [
       "<script type=\"text/javascript\">window.PlotlyConfig = {MathJaxConfig: 'local'};</script><script type=\"text/javascript\">if (window.MathJax) {MathJax.Hub.Config({SVG: {font: \"STIX-Web\"}});}</script><script>requirejs.config({paths: { 'plotly': ['https://cdn.plot.ly/plotly-latest.min']},});if(!window._Plotly) {require(['plotly'],function(plotly) {window._Plotly=plotly;});}</script>"
      ]
     },
     "metadata": {},
     "output_type": "display_data"
    }
   ],
   "source": [
    "import matplotlib as mpl\n",
    "import matplotlib.pyplot as plt\n",
    "\n",
    "#bokeh + jupyter lab requires \"jupyter labextension install jupyterlab_bokeh\" installation, \n",
    "# but 2018-07-28 there is a dependency conflict\n",
    "\n",
    "# import bokeh.io\n",
    "# import bokeh.plotting\n",
    "# bokeh.io.output_notebook()\n",
    "import plotly\n",
    "import plotly.graph_objs as go\n",
    "from plotly.offline import download_plotlyjs, init_notebook_mode, plot, iplot\n",
    "init_notebook_mode(connected=True)"
   ]
  },
  {
   "cell_type": "code",
   "execution_count": 2,
   "metadata": {},
   "outputs": [],
   "source": [
    "import os\n",
    "import sys\n",
    "module_path = os.path.abspath(os.path.join('..'))\n",
    "if module_path not in sys.path:\n",
    "    sys.path.append(module_path)"
   ]
  },
  {
   "cell_type": "code",
   "execution_count": 19,
   "metadata": {},
   "outputs": [
    {
     "name": "stdout",
     "output_type": "stream",
     "text": [
      "Help on function dnmr_AB in module nmrtools.dnmr:\n",
      "\n",
      "dnmr_AB(va, vb, J, k, w, limits=None, points=800)\n",
      "    Simulate the DNMR lineshape for two coupled nuclei undergoing exchange\n",
      "    (AB or AX pattern at the slow-exchange limit).\n",
      "    \n",
      "    Parameters\n",
      "    ---------\n",
      "    va, vb : float\n",
      "        frequencies of a and b nuclei (at the slow exchange limit,\n",
      "        in the absence of coupling)\n",
      "    J : float\n",
      "        the coupling constant between the two nuclei.\n",
      "    k : float\n",
      "        rate constant for state A--> state B\n",
      "    w : float\n",
      "        peak widths at half height (at the slow-exchange limit).\n",
      "    limits : (int or float, int or float), optional\n",
      "        The minimum and maximum frequencies (in any order) for the simulation.\n",
      "    points : int\n",
      "        The length of the returned arrays (i.e. the number of points plotted).\n",
      "    \n",
      "    Returns\n",
      "    -------\n",
      "    x, y : numpy.array, numpy.array\n",
      "        Arrays for the x (frequency) and y (intensity) lineshape data points.\n",
      "    \n",
      "    See Also\n",
      "    --------\n",
      "    DnmrAB : A class representation for this simulation.\n",
      "    \n",
      "    References\n",
      "    ----------\n",
      "    See the documentation for the nmrtools.dnmr module.\n",
      "\n"
     ]
    }
   ],
   "source": [
    "from nmrtools.dnmr import dnmr_AB\n",
    "help(dnmr_AB)"
   ]
  },
  {
   "cell_type": "code",
   "execution_count": 20,
   "metadata": {},
   "outputs": [],
   "source": [
    "args = (\n",
    "    200,  # va\n",
    "    100,  # vb\n",
    "    10,   # J\n",
    "    0.1,  # k\n",
    "    0.5   # w\n",
    ")\n"
   ]
  },
  {
   "cell_type": "code",
   "execution_count": 22,
   "metadata": {},
   "outputs": [],
   "source": [
    "def interactive_ab(va=200, vb=100, J=10, k=0.1, w=0.5):\n",
    "    args = (va, vb, J, k, w)\n",
    "    x, y = dnmr_AB(*args)\n",
    "    obj = go.Scatter(x=x, y=y)\n",
    "    data = [obj]\n",
    "    iplot(data)"
   ]
  },
  {
   "cell_type": "code",
   "execution_count": 24,
   "metadata": {},
   "outputs": [],
   "source": [
    "from ipywidgets import interactive"
   ]
  },
  {
   "cell_type": "code",
   "execution_count": 25,
   "metadata": {},
   "outputs": [
    {
     "data": {
      "application/vnd.jupyter.widget-view+json": {
       "model_id": "e66ea6778dd14754972a74e60af33afa",
       "version_major": 2,
       "version_minor": 0
      },
      "text/plain": [
       "interactive(children=(IntSlider(value=200, description='va', max=600, min=-200), IntSlider(value=100, descript…"
      ]
     },
     "metadata": {},
     "output_type": "display_data"
    }
   ],
   "source": [
    "interactive(interactive_ab, k=(0.1, 100))"
   ]
  }
 ],
 "metadata": {
  "kernelspec": {
   "display_name": "Python (nmr)",
   "language": "python",
   "name": "nmr"
  },
  "language_info": {
   "codemirror_mode": {
    "name": "ipython",
    "version": 3
   },
   "file_extension": ".py",
   "mimetype": "text/x-python",
   "name": "python",
   "nbconvert_exporter": "python",
   "pygments_lexer": "ipython3",
   "version": "3.7.3"
  }
 },
 "nbformat": 4,
 "nbformat_minor": 2
}
