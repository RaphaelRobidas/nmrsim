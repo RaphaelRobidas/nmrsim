{
 "cells": [
  {
   "cell_type": "markdown",
   "metadata": {},
   "source": [
    "Experimental notebook to explore use of SymPy for NMR simulations. Currently unfit for human consumption."
   ]
  },
  {
   "cell_type": "markdown",
   "metadata": {},
   "source": [
    "Note: [SymPsi](http://sympsi.github.io) looked promising, but hasn't been updated since 2015. "
   ]
  },
  {
   "cell_type": "markdown",
   "metadata": {},
   "source": [
    "Concept: can Hamiltonians be calculated once, symbolically, and then used and reused with supplied frequency/coupling variables? Can their eigensolution? \n",
    "\n",
    "If so, this could dramatically speed up calculations."
   ]
  },
  {
   "cell_type": "markdown",
   "metadata": {},
   "source": [
    "Note: apparently, it is not possible to get all eigenvalues for a scipy sparse matrix. A complete eigensolution is required by the simulation."
   ]
  },
  {
   "cell_type": "code",
   "execution_count": 1,
   "metadata": {},
   "outputs": [],
   "source": [
    "import numpy as np\n",
    "from sympy import *"
   ]
  },
  {
   "cell_type": "code",
   "execution_count": 2,
   "metadata": {},
   "outputs": [],
   "source": [
    "# For nice-looking output:\n",
    "init_printing()"
   ]
  },
  {
   "cell_type": "markdown",
   "metadata": {},
   "source": [
    "For reference, the original Hamiltonian code that we will try to improve upon:"
   ]
  },
  {
   "cell_type": "code",
   "execution_count": 3,
   "metadata": {},
   "outputs": [],
   "source": [
    "def hamiltonian(freqlist, couplings):\n",
    "    \"\"\"\n",
    "    Computes the spin Hamiltonian for spin-1/2 nuclei.\n",
    "    inputs for n nuclei:\n",
    "        :param freqlist: a list of frequencies in Hz of length n\n",
    "        :param couplings: an n x n array of coupling constants in Hz\n",
    "    Returns: a Hamiltonian array\n",
    "    \"\"\"\n",
    "    nspins = len(freqlist)\n",
    "\n",
    "    # Define Pauli matrices\n",
    "    sigma_x = np.matrix([[0, 1 / 2], [1 / 2, 0]])\n",
    "    sigma_y = np.matrix([[0, -1j / 2], [1j / 2, 0]])\n",
    "    sigma_z = np.matrix([[1 / 2, 0], [0, -1 / 2]])\n",
    "    unit = np.matrix([[1, 0], [0, 1]])\n",
    "\n",
    "    # The following empty arrays will be used to store the\n",
    "    # Cartesian spin operators.\n",
    "    Lx = np.empty((1, nspins), dtype='object')\n",
    "    Ly = np.empty((1, nspins), dtype='object')\n",
    "    Lz = np.empty((1, nspins), dtype='object')\n",
    "\n",
    "    for n in range(nspins):\n",
    "        Lx[0, n] = 1\n",
    "        Ly[0, n] = 1\n",
    "        Lz[0, n] = 1\n",
    "        for k in range(nspins):\n",
    "            if k == n:                                  # Diagonal element\n",
    "                Lx[0, n] = np.kron(Lx[0, n], sigma_x)\n",
    "                Ly[0, n] = np.kron(Ly[0, n], sigma_y)\n",
    "                Lz[0, n] = np.kron(Lz[0, n], sigma_z)\n",
    "            else:                                       # Off-diagonal element\n",
    "                Lx[0, n] = np.kron(Lx[0, n], unit)\n",
    "                Ly[0, n] = np.kron(Ly[0, n], unit)\n",
    "                Lz[0, n] = np.kron(Lz[0, n], unit)\n",
    "\n",
    "    Lcol = np.vstack((Lx, Ly, Lz)).real\n",
    "    Lrow = Lcol.T  # As opposed to sparse version of code, this works!\n",
    "    Lproduct = np.dot(Lrow, Lcol)\n",
    "\n",
    "    # Hamiltonian operator\n",
    "    H = np.zeros((2**nspins, 2**nspins))\n",
    "\n",
    "    # Add Zeeman interactions:\n",
    "    for n in range(nspins):\n",
    "        H = H + freqlist[n] * Lz[0, n]\n",
    "\n",
    "    # Scalar couplings\n",
    "\n",
    "    # Testing with MATLAB discovered J must be /2.\n",
    "    # Believe it is related to the fact that in the SpinDynamics.org simulation\n",
    "    # freqs are *2pi, but Js by pi only.\n",
    "    scalars = 0.5 * couplings\n",
    "    scalars = np.multiply(scalars, Lproduct)\n",
    "    for n in range(nspins):\n",
    "        for k in range(nspins):\n",
    "            H += scalars[n, k].real\n",
    "\n",
    "    return H\n",
    "\n"
   ]
  },
  {
   "cell_type": "markdown",
   "metadata": {},
   "source": [
    "Default frequencies and couplings from WINDNMR for 8-spin system:\n",
    "\n"
   ]
  },
  {
   "cell_type": "code",
   "execution_count": 4,
   "metadata": {},
   "outputs": [],
   "source": [
    "def spin8():\n",
    "    v = np.array([85, 120, 160, 185, 205, 215, 235, 260])\n",
    "    J = np.zeros((8, 8))\n",
    "    J[0, 1] = -12\n",
    "    J[0, 2] = 6\n",
    "    J[0, 3] = 2\n",
    "    # J[0, 4] = 0\n",
    "    # J[0, 5] = 0\n",
    "    # J[0, 6] = 0\n",
    "    # J[0, 7] = 0\n",
    "    # J[1, 2] = 0\n",
    "    # J[1, 3] = 0\n",
    "    J[1, 4] = 14\n",
    "    # J[1, 5] = 0\n",
    "    # J[1, 6] = 0\n",
    "    J[1, 7] = 3\n",
    "    # J[2, 3] = 0\n",
    "    # J[2, 4] = 0\n",
    "    J[2, 5] = 3\n",
    "    # J[2, 6] = 0\n",
    "    # J[2, 7] = 0\n",
    "    # J[3, 4] = 0\n",
    "    J[3, 5] = 5\n",
    "    # J[3, 6] = 0\n",
    "    # J[3, 7] = 0\n",
    "    J[4, 5] = 2\n",
    "    # J[4, 6] = 0\n",
    "    # J[4, 7] = 0\n",
    "    # J[5, 6] = 0\n",
    "    # J[5, 7] = 0\n",
    "    J[6, 7] = 12\n",
    "    J = J + J.T\n",
    "    return v, J"
   ]
  },
  {
   "cell_type": "markdown",
   "metadata": {},
   "source": [
    "and for 2:\n",
    "\n"
   ]
  },
  {
   "cell_type": "code",
   "execution_count": 5,
   "metadata": {},
   "outputs": [],
   "source": [
    "def spin2():\n",
    "    v = np.array([150-7.5, 150+7.5])\n",
    "    J = np.zeros((2, 2))\n",
    "    J[0, 1] = 12\n",
    "    J = J + J.T\n",
    "    return v, J"
   ]
  },
  {
   "cell_type": "code",
   "execution_count": 6,
   "metadata": {},
   "outputs": [
    {
     "data": {
      "text/plain": [
       "matrix([[ 153. ,    0. ,    0. ,    0. ],\n",
       "        [   0. ,  -10.5,    6. ,    0. ],\n",
       "        [   0. ,    6. ,    4.5,    0. ],\n",
       "        [   0. ,    0. ,    0. , -147. ]])"
      ]
     },
     "execution_count": 6,
     "metadata": {},
     "output_type": "execute_result"
    }
   ],
   "source": [
    "# Test that old hamiltonian produces expected result:\n",
    "v, J = spin2()\n",
    "h = hamiltonian(v, J)\n",
    "h"
   ]
  },
  {
   "cell_type": "code",
   "execution_count": 7,
   "metadata": {},
   "outputs": [
    {
     "name": "stdout",
     "output_type": "stream",
     "text": [
      "[-147.          -12.60468636    6.60468636  153.        ]\n"
     ]
    },
    {
     "data": {
      "text/plain": [
       "matrix([[ 0.        ,  0.        , -0.        ,  1.        ],\n",
       "        [ 0.        , -0.94362832, -0.33100694,  0.        ],\n",
       "        [ 0.        ,  0.33100694, -0.94362832,  0.        ],\n",
       "        [ 1.        ,  0.        , -0.        ,  0.        ]])"
      ]
     },
     "execution_count": 7,
     "metadata": {},
     "output_type": "execute_result"
    }
   ],
   "source": [
    "E, V = np.linalg.eigh(h)\n",
    "print(E)\n",
    "V"
   ]
  },
  {
   "cell_type": "code",
   "execution_count": 8,
   "metadata": {},
   "outputs": [
    {
     "data": {
      "image/png": "[encoded data removed]",
      "text/latex": [
       "$$\\left [ \\left ( -147.0, \\quad 1, \\quad \\left [ \\left[\\begin{matrix}0\\\\0\\\\0\\\\1.0\\end{matrix}\\right]\\right ]\\right ), \\quad \\left ( 153.0, \\quad 1, \\quad \\left [ \\left[\\begin{matrix}1.0\\\\0\\\\0\\\\0\\end{matrix}\\right]\\right ]\\right ), \\quad \\left ( 6.60468635614927, \\quad 1, \\quad \\left [ \\left[\\begin{matrix}0\\\\0.350781059358212\\\\1.0\\\\0\\end{matrix}\\right]\\right ]\\right ), \\quad \\left ( -12.6046863561493, \\quad 1, \\quad \\left [ \\left[\\begin{matrix}0\\\\-2.85078105935821\\\\1.0\\\\0\\end{matrix}\\right]\\right ]\\right )\\right ]$$"
      ],
      "text/plain": [
       "⎡⎛           ⎡⎡ 0 ⎤⎤⎞  ⎛          ⎡⎡1.0⎤⎤⎞  ⎛                     ⎡⎡        0 \n",
       "⎢⎜           ⎢⎢   ⎥⎥⎟  ⎜          ⎢⎢   ⎥⎥⎟  ⎜                     ⎢⎢          \n",
       "⎢⎜           ⎢⎢ 0 ⎥⎥⎟  ⎜          ⎢⎢ 0 ⎥⎥⎟  ⎜                     ⎢⎢0.35078105\n",
       "⎢⎜-147.0, 1, ⎢⎢   ⎥⎥⎟, ⎜153.0, 1, ⎢⎢   ⎥⎥⎟, ⎜6.60468635614927, 1, ⎢⎢          \n",
       "⎢⎜           ⎢⎢ 0 ⎥⎥⎟  ⎜          ⎢⎢ 0 ⎥⎥⎟  ⎜                     ⎢⎢       1.0\n",
       "⎢⎜           ⎢⎢   ⎥⎥⎟  ⎜          ⎢⎢   ⎥⎥⎟  ⎜                     ⎢⎢          \n",
       "⎣⎝           ⎣⎣1.0⎦⎦⎠  ⎝          ⎣⎣ 0 ⎦⎦⎠  ⎝                     ⎣⎣        0 \n",
       "\n",
       "       ⎤⎤⎞  ⎛                      ⎡⎡        0        ⎤⎤⎞⎤\n",
       "       ⎥⎥⎟  ⎜                      ⎢⎢                 ⎥⎥⎟⎥\n",
       "9358212⎥⎥⎟  ⎜                      ⎢⎢-2.85078105935821⎥⎥⎟⎥\n",
       "       ⎥⎥⎟, ⎜-12.6046863561493, 1, ⎢⎢                 ⎥⎥⎟⎥\n",
       "       ⎥⎥⎟  ⎜                      ⎢⎢       1.0       ⎥⎥⎟⎥\n",
       "       ⎥⎥⎟  ⎜                      ⎢⎢                 ⎥⎥⎟⎥\n",
       "       ⎦⎦⎠  ⎝                      ⎣⎣        0        ⎦⎦⎠⎦"
      ]
     },
     "execution_count": 8,
     "metadata": {},
     "output_type": "execute_result"
    }
   ],
   "source": [
    "# can sympy get all eigenvalues for a sparse matrix? scipy can't.\n",
    "# the answer appears to be that it can!\n",
    "h = SparseMatrix(4, 4, {\n",
    "    (0, 0): 153, \n",
    "    (3,3):-147, \n",
    "    (1, 1): -10.5, \n",
    "    (2,2):4.5,\n",
    "    (1,2):6,(2,1):6})\n",
    "h.eigenvects()"
   ]
  },
  {
   "cell_type": "markdown",
   "metadata": {},
   "source": [
    "Now, will try to replicate hamiltonian using SymPy."
   ]
  },
  {
   "cell_type": "code",
   "execution_count": 9,
   "metadata": {},
   "outputs": [
    {
     "data": {
      "image/png": "[encoded data removed]",
      "text/latex": [
       "$$\\left ( \\sigma_{x}, \\quad \\sigma_{y}, \\quad \\sigma_{z}, \\quad I\\right )$$"
      ],
      "text/plain": [
       "(σₓ, σ_y, σ_z, I)"
      ]
     },
     "execution_count": 9,
     "metadata": {},
     "output_type": "execute_result"
    }
   ],
   "source": [
    "sigma_x = MatrixSymbol('sigma_x', 2, 2)\n",
    "sigma_y = MatrixSymbol('sigma_y', 2, 2)\n",
    "sigma_z = MatrixSymbol('sigma_z', 2, 2)\n",
    "unit = MatrixSymbol('I', 2, 2)  # careful--SymPy uses I for i\n",
    "sigma_x, sigma_y, sigma_z, unit"
   ]
  },
  {
   "cell_type": "code",
   "execution_count": 10,
   "metadata": {},
   "outputs": [
    {
     "data": {
      "image/png": "[encoded data removed]",
      "text/latex": [
       "$$\\left ( \\left[\\begin{matrix}0 & 0.5\\\\0.5 & 0\\end{matrix}\\right], \\quad \\left[\\begin{matrix}0 & - 0.5 i\\\\0.5 i & 0\\end{matrix}\\right], \\quad \\left[\\begin{matrix}0.5 & 0\\\\0 & -0.5\\end{matrix}\\right], \\quad \\left[\\begin{matrix}1 & 0\\\\0 & 1\\end{matrix}\\right]\\right )$$"
      ],
      "text/plain": [
       "⎛⎡ 0   0.5⎤  ⎡  0    -0.5⋅ⅈ⎤  ⎡0.5   0  ⎤  ⎡1  0⎤⎞\n",
       "⎜⎢        ⎥, ⎢             ⎥, ⎢         ⎥, ⎢    ⎥⎟\n",
       "⎝⎣0.5   0 ⎦  ⎣0.5⋅ⅈ    0   ⎦  ⎣ 0   -0.5⎦  ⎣0  1⎦⎠"
      ]
     },
     "execution_count": 10,
     "metadata": {},
     "output_type": "execute_result"
    }
   ],
   "source": [
    "# Define Pauli matrices\n",
    "sigma_x = Matrix([[0, 1 / 2], [1 / 2, 0]])\n",
    "sigma_y = Matrix([[0, -1j / 2], [1j / 2, 0]])\n",
    "sigma_z = Matrix([[1 / 2, 0], [0, -1 / 2]])\n",
    "unit = Matrix([[1, 0], [0, 1]])\n",
    "sigma_x, sigma_y, sigma_z, unit\n",
    "    "
   ]
  },
  {
   "cell_type": "code",
   "execution_count": 11,
   "metadata": {},
   "outputs": [
    {
     "data": {
      "image/png": "[encoded data removed]",
      "text/latex": [
       "$$v_{1} + v_{2}$$"
      ],
      "text/plain": [
       "v₁ + v₂"
      ]
     },
     "execution_count": 11,
     "metadata": {},
     "output_type": "execute_result"
    }
   ],
   "source": [
    "v1, v2 = symbols(\"v1, v2\")\n",
    "v1 + v2"
   ]
  },
  {
   "cell_type": "code",
   "execution_count": 12,
   "metadata": {},
   "outputs": [
    {
     "data": {
      "image/png": "[encoded data removed]",
      "text/latex": [
       "$$\\left[\\begin{matrix}0 & J\\\\J & 0\\end{matrix}\\right]$$"
      ],
      "text/plain": [
       "⎡0  J⎤\n",
       "⎢    ⎥\n",
       "⎣J  0⎦"
      ]
     },
     "execution_count": 12,
     "metadata": {},
     "output_type": "execute_result"
    }
   ],
   "source": [
    "J = Symbol('J')\n",
    "j_matrix = Matrix([[0, J], [J, 0]])\n",
    "j_matrix"
   ]
  },
  {
   "cell_type": "code",
   "execution_count": 13,
   "metadata": {},
   "outputs": [],
   "source": [
    "from sympy.physics.quantum import TensorProduct\n",
    "from sympy.tensor.array import MutableDenseNDimArray as MArray"
   ]
  },
  {
   "cell_type": "markdown",
   "metadata": {},
   "source": [
    "Issues to resolve/work around:\n",
    "Can an array of matrices be constructed for Lx, Ly, Lz as before?\n",
    "TensorProduct, unlike np.kron, won't accept an integer, so tensor product between 1 and $\\sigma_{x/y/z}$/I not possible."
   ]
  },
  {
   "cell_type": "markdown",
   "metadata": {},
   "source": [
    "Create a kron function to make this possible:"
   ]
  },
  {
   "cell_type": "code",
   "execution_count": 14,
   "metadata": {},
   "outputs": [],
   "source": [
    "def kron(m1, m2):\n",
    "    \"\"\"Compute a Kronecker product of m1 and m2 if m1 is a matrix, \n",
    "    or scalar multiplication of m2 if m1 is a scalar.\n",
    "    \"\"\"\n",
    "    try:\n",
    "        prod = TensorProduct(m1, m2)\n",
    "    except AttributeError:\n",
    "        try:\n",
    "            prod = m1 * m2\n",
    "        except:\n",
    "            prod = None\n",
    "    return prod"
   ]
  },
  {
   "cell_type": "code",
   "execution_count": 15,
   "metadata": {},
   "outputs": [
    {
     "data": {
      "image/png": "[encoded data removed]",
      "text/latex": [
       "$$\\left[\\begin{matrix}0 & - 1.0 i\\\\1.0 i & 0\\end{matrix}\\right]$$"
      ],
      "text/plain": [
       "⎡  0    -1.0⋅ⅈ⎤\n",
       "⎢             ⎥\n",
       "⎣1.0⋅ⅈ    0   ⎦"
      ]
     },
     "execution_count": 15,
     "metadata": {},
     "output_type": "execute_result"
    }
   ],
   "source": [
    "kron(2, sigma_y)"
   ]
  },
  {
   "cell_type": "code",
   "execution_count": 17,
   "metadata": {},
   "outputs": [
    {
     "data": {
      "image/png": "[encoded data removed]",
      "text/latex": [
       "$$\\left ( \\left[\\begin{matrix}1 & 1 & 1 & 1\\end{matrix}\\right], \\quad \\left[\\begin{matrix}1 & 1 & 1 & 1\\end{matrix}\\right], \\quad \\left[\\begin{matrix}1 & 1 & 1 & 1\\end{matrix}\\right]\\right )$$"
      ],
      "text/plain": [
       "([1  1  1  1], [1  1  1  1], [1  1  1  1])"
      ]
     },
     "execution_count": 17,
     "metadata": {},
     "output_type": "execute_result"
    }
   ],
   "source": [
    "# When sympy mutable arrays were tried, saving a Matrix as an MArray element\n",
    "# gave a 'not implemented' error. The sympy code suggested MArray elements\n",
    "# could not be certain iterable types.\n",
    "Lx = MArray([1] * 4)\n",
    "Ly = MArray([1] * 4)\n",
    "Lz = MArray([1] * 4)\n",
    "\n",
    "Lx, Ly, Lz"
   ]
  },
  {
   "cell_type": "code",
   "execution_count": 18,
   "metadata": {},
   "outputs": [
    {
     "ename": "AttributeError",
     "evalue": "ImmutableDenseMatrix has no attribute args_cnc.",
     "output_type": "error",
     "traceback": [
      "\u001b[0;31m---------------------------------------------------------------------------\u001b[0m",
      "\u001b[0;31mAttributeError\u001b[0m                            Traceback (most recent call last)",
      "\u001b[0;32m<ipython-input-18-8d22ae516a8e>\u001b[0m in \u001b[0;36m<module>\u001b[0;34m()\u001b[0m\n\u001b[0;32m----> 1\u001b[0;31m \u001b[0mTensorProduct\u001b[0m\u001b[0;34m(\u001b[0m\u001b[0;36m1\u001b[0m\u001b[0;34m,\u001b[0m \u001b[0msigma_y\u001b[0m\u001b[0;34m)\u001b[0m\u001b[0;34m\u001b[0m\u001b[0m\n\u001b[0m",
      "\u001b[0;32m~/anaconda/envs/qm/lib/python3.6/site-packages/sympy/physics/quantum/tensorproduct.py\u001b[0m in \u001b[0;36m__new__\u001b[0;34m(cls, *args)\u001b[0m\n\u001b[1;32m    120\u001b[0m         \u001b[0;32mif\u001b[0m \u001b[0misinstance\u001b[0m\u001b[0;34m(\u001b[0m\u001b[0margs\u001b[0m\u001b[0;34m[\u001b[0m\u001b[0;36m0\u001b[0m\u001b[0;34m]\u001b[0m\u001b[0;34m,\u001b[0m \u001b[0;34m(\u001b[0m\u001b[0mMatrix\u001b[0m\u001b[0;34m,\u001b[0m \u001b[0mnumpy_ndarray\u001b[0m\u001b[0;34m,\u001b[0m \u001b[0mscipy_sparse_matrix\u001b[0m\u001b[0;34m)\u001b[0m\u001b[0;34m)\u001b[0m\u001b[0;34m:\u001b[0m\u001b[0;34m\u001b[0m\u001b[0m\n\u001b[1;32m    121\u001b[0m             \u001b[0;32mreturn\u001b[0m \u001b[0mmatrix_tensor_product\u001b[0m\u001b[0;34m(\u001b[0m\u001b[0;34m*\u001b[0m\u001b[0margs\u001b[0m\u001b[0;34m)\u001b[0m\u001b[0;34m\u001b[0m\u001b[0m\n\u001b[0;32m--> 122\u001b[0;31m         \u001b[0mc_part\u001b[0m\u001b[0;34m,\u001b[0m \u001b[0mnew_args\u001b[0m \u001b[0;34m=\u001b[0m \u001b[0mcls\u001b[0m\u001b[0;34m.\u001b[0m\u001b[0mflatten\u001b[0m\u001b[0;34m(\u001b[0m\u001b[0msympify\u001b[0m\u001b[0;34m(\u001b[0m\u001b[0margs\u001b[0m\u001b[0;34m)\u001b[0m\u001b[0;34m)\u001b[0m\u001b[0;34m\u001b[0m\u001b[0m\n\u001b[0m\u001b[1;32m    123\u001b[0m         \u001b[0mc_part\u001b[0m \u001b[0;34m=\u001b[0m \u001b[0mMul\u001b[0m\u001b[0;34m(\u001b[0m\u001b[0;34m*\u001b[0m\u001b[0mc_part\u001b[0m\u001b[0;34m)\u001b[0m\u001b[0;34m\u001b[0m\u001b[0m\n\u001b[1;32m    124\u001b[0m         \u001b[0;32mif\u001b[0m \u001b[0mlen\u001b[0m\u001b[0;34m(\u001b[0m\u001b[0mnew_args\u001b[0m\u001b[0;34m)\u001b[0m \u001b[0;34m==\u001b[0m \u001b[0;36m0\u001b[0m\u001b[0;34m:\u001b[0m\u001b[0;34m\u001b[0m\u001b[0m\n",
      "\u001b[0;32m~/anaconda/envs/qm/lib/python3.6/site-packages/sympy/physics/quantum/tensorproduct.py\u001b[0m in \u001b[0;36mflatten\u001b[0;34m(cls, args)\u001b[0m\n\u001b[1;32m    136\u001b[0m         \u001b[0mnc_parts\u001b[0m \u001b[0;34m=\u001b[0m \u001b[0;34m[\u001b[0m\u001b[0;34m]\u001b[0m\u001b[0;34m\u001b[0m\u001b[0m\n\u001b[1;32m    137\u001b[0m         \u001b[0;32mfor\u001b[0m \u001b[0marg\u001b[0m \u001b[0;32min\u001b[0m \u001b[0margs\u001b[0m\u001b[0;34m:\u001b[0m\u001b[0;34m\u001b[0m\u001b[0m\n\u001b[0;32m--> 138\u001b[0;31m             \u001b[0mcp\u001b[0m\u001b[0;34m,\u001b[0m \u001b[0mncp\u001b[0m \u001b[0;34m=\u001b[0m \u001b[0marg\u001b[0m\u001b[0;34m.\u001b[0m\u001b[0margs_cnc\u001b[0m\u001b[0;34m(\u001b[0m\u001b[0;34m)\u001b[0m\u001b[0;34m\u001b[0m\u001b[0m\n\u001b[0m\u001b[1;32m    139\u001b[0m             \u001b[0mc_part\u001b[0m\u001b[0;34m.\u001b[0m\u001b[0mextend\u001b[0m\u001b[0;34m(\u001b[0m\u001b[0mlist\u001b[0m\u001b[0;34m(\u001b[0m\u001b[0mcp\u001b[0m\u001b[0;34m)\u001b[0m\u001b[0;34m)\u001b[0m\u001b[0;34m\u001b[0m\u001b[0m\n\u001b[1;32m    140\u001b[0m             \u001b[0mnc_parts\u001b[0m\u001b[0;34m.\u001b[0m\u001b[0mappend\u001b[0m\u001b[0;34m(\u001b[0m\u001b[0mMul\u001b[0m\u001b[0;34m.\u001b[0m\u001b[0m_from_args\u001b[0m\u001b[0;34m(\u001b[0m\u001b[0mncp\u001b[0m\u001b[0;34m)\u001b[0m\u001b[0;34m)\u001b[0m\u001b[0;34m\u001b[0m\u001b[0m\n",
      "\u001b[0;32m~/anaconda/envs/qm/lib/python3.6/site-packages/sympy/matrices/matrices.py\u001b[0m in \u001b[0;36m__getattr__\u001b[0;34m(self, attr)\u001b[0m\n\u001b[1;32m   1841\u001b[0m         \u001b[0;32melse\u001b[0m\u001b[0;34m:\u001b[0m\u001b[0;34m\u001b[0m\u001b[0m\n\u001b[1;32m   1842\u001b[0m             raise AttributeError(\n\u001b[0;32m-> 1843\u001b[0;31m                 \"%s has no attribute %s.\" % (self.__class__.__name__, attr))\n\u001b[0m\u001b[1;32m   1844\u001b[0m \u001b[0;34m\u001b[0m\u001b[0m\n\u001b[1;32m   1845\u001b[0m     \u001b[0;32mdef\u001b[0m \u001b[0m__len__\u001b[0m\u001b[0;34m(\u001b[0m\u001b[0mself\u001b[0m\u001b[0;34m)\u001b[0m\u001b[0;34m:\u001b[0m\u001b[0;34m\u001b[0m\u001b[0m\n",
      "\u001b[0;31mAttributeError\u001b[0m: ImmutableDenseMatrix has no attribute args_cnc."
     ]
    }
   ],
   "source": [
    "TensorProduct(1, sigma_y)"
   ]
  },
  {
   "cell_type": "code",
   "execution_count": 19,
   "metadata": {},
   "outputs": [
    {
     "ename": "NotImplementedError",
     "evalue": "",
     "output_type": "error",
     "traceback": [
      "\u001b[0;31m---------------------------------------------------------------------------\u001b[0m",
      "\u001b[0;31mNotImplementedError\u001b[0m                       Traceback (most recent call last)",
      "\u001b[0;32m<ipython-input-19-4d60c6c432c6>\u001b[0m in \u001b[0;36m<module>\u001b[0;34m()\u001b[0m\n\u001b[1;32m      3\u001b[0m         \u001b[0;32mfor\u001b[0m \u001b[0mk\u001b[0m \u001b[0;32min\u001b[0m \u001b[0mrange\u001b[0m\u001b[0;34m(\u001b[0m\u001b[0mnspins\u001b[0m\u001b[0;34m)\u001b[0m\u001b[0;34m:\u001b[0m\u001b[0;34m\u001b[0m\u001b[0m\n\u001b[1;32m      4\u001b[0m             \u001b[0;32mif\u001b[0m \u001b[0mk\u001b[0m \u001b[0;34m==\u001b[0m \u001b[0mn\u001b[0m\u001b[0;34m:\u001b[0m                                  \u001b[0;31m# Diagonal element\u001b[0m\u001b[0;34m\u001b[0m\u001b[0m\n\u001b[0;32m----> 5\u001b[0;31m                 \u001b[0mLx\u001b[0m\u001b[0;34m[\u001b[0m\u001b[0mn\u001b[0m\u001b[0;34m]\u001b[0m \u001b[0;34m=\u001b[0m \u001b[0mkron\u001b[0m\u001b[0;34m(\u001b[0m\u001b[0mLx\u001b[0m\u001b[0;34m[\u001b[0m\u001b[0mn\u001b[0m\u001b[0;34m]\u001b[0m\u001b[0;34m,\u001b[0m \u001b[0msigma_x\u001b[0m\u001b[0;34m)\u001b[0m\u001b[0;34m\u001b[0m\u001b[0m\n\u001b[0m\u001b[1;32m      6\u001b[0m                 \u001b[0mLy\u001b[0m\u001b[0;34m[\u001b[0m\u001b[0mn\u001b[0m\u001b[0;34m]\u001b[0m \u001b[0;34m=\u001b[0m \u001b[0mTensorProduct\u001b[0m\u001b[0;34m(\u001b[0m\u001b[0mLy\u001b[0m\u001b[0;34m[\u001b[0m\u001b[0mn\u001b[0m\u001b[0;34m]\u001b[0m\u001b[0;34m,\u001b[0m \u001b[0msigma_y\u001b[0m\u001b[0;34m)\u001b[0m\u001b[0;34m\u001b[0m\u001b[0m\n\u001b[1;32m      7\u001b[0m                 \u001b[0mLz\u001b[0m\u001b[0;34m[\u001b[0m\u001b[0mn\u001b[0m\u001b[0;34m]\u001b[0m \u001b[0;34m=\u001b[0m \u001b[0mTensorProduct\u001b[0m\u001b[0;34m(\u001b[0m\u001b[0mLz\u001b[0m\u001b[0;34m[\u001b[0m\u001b[0mn\u001b[0m\u001b[0;34m]\u001b[0m\u001b[0;34m,\u001b[0m \u001b[0msigma_z\u001b[0m\u001b[0;34m)\u001b[0m\u001b[0;34m\u001b[0m\u001b[0m\n",
      "\u001b[0;32m~/anaconda/envs/qm/lib/python3.6/site-packages/sympy/tensor/array/dense_ndim_array.py\u001b[0m in \u001b[0;36m__setitem__\u001b[0;34m(self, index, value)\u001b[0m\n\u001b[1;32m    190\u001b[0m         \"\"\"\n\u001b[1;32m    191\u001b[0m         \u001b[0mindex\u001b[0m \u001b[0;34m=\u001b[0m \u001b[0mself\u001b[0m\u001b[0;34m.\u001b[0m\u001b[0m_parse_index\u001b[0m\u001b[0;34m(\u001b[0m\u001b[0mindex\u001b[0m\u001b[0;34m)\u001b[0m\u001b[0;34m\u001b[0m\u001b[0m\n\u001b[0;32m--> 192\u001b[0;31m         \u001b[0mself\u001b[0m\u001b[0;34m.\u001b[0m\u001b[0m_setter_iterable_check\u001b[0m\u001b[0;34m(\u001b[0m\u001b[0mvalue\u001b[0m\u001b[0;34m)\u001b[0m\u001b[0;34m\u001b[0m\u001b[0m\n\u001b[0m\u001b[1;32m    193\u001b[0m         \u001b[0mvalue\u001b[0m \u001b[0;34m=\u001b[0m \u001b[0m_sympify\u001b[0m\u001b[0;34m(\u001b[0m\u001b[0mvalue\u001b[0m\u001b[0;34m)\u001b[0m\u001b[0;34m\u001b[0m\u001b[0m\n\u001b[1;32m    194\u001b[0m \u001b[0;34m\u001b[0m\u001b[0m\n",
      "\u001b[0;32m~/anaconda/envs/qm/lib/python3.6/site-packages/sympy/tensor/array/ndim_array.py\u001b[0m in \u001b[0;36m_setter_iterable_check\u001b[0;34m(self, value)\u001b[0m\n\u001b[1;32m    102\u001b[0m         \u001b[0;32mfrom\u001b[0m \u001b[0msympy\u001b[0m\u001b[0;34m.\u001b[0m\u001b[0mmatrices\u001b[0m\u001b[0;34m.\u001b[0m\u001b[0mmatrices\u001b[0m \u001b[0;32mimport\u001b[0m \u001b[0mMatrixBase\u001b[0m\u001b[0;34m\u001b[0m\u001b[0m\n\u001b[1;32m    103\u001b[0m         \u001b[0;32mif\u001b[0m \u001b[0misinstance\u001b[0m\u001b[0;34m(\u001b[0m\u001b[0mvalue\u001b[0m\u001b[0;34m,\u001b[0m \u001b[0;34m(\u001b[0m\u001b[0mcollections\u001b[0m\u001b[0;34m.\u001b[0m\u001b[0mIterable\u001b[0m\u001b[0;34m,\u001b[0m \u001b[0mMatrixBase\u001b[0m\u001b[0;34m,\u001b[0m \u001b[0mNDimArray\u001b[0m\u001b[0;34m)\u001b[0m\u001b[0;34m)\u001b[0m\u001b[0;34m:\u001b[0m\u001b[0;34m\u001b[0m\u001b[0m\n\u001b[0;32m--> 104\u001b[0;31m             \u001b[0;32mraise\u001b[0m \u001b[0mNotImplementedError\u001b[0m\u001b[0;34m\u001b[0m\u001b[0m\n\u001b[0m\u001b[1;32m    105\u001b[0m \u001b[0;34m\u001b[0m\u001b[0m\n\u001b[1;32m    106\u001b[0m     \u001b[0;34m@\u001b[0m\u001b[0mclassmethod\u001b[0m\u001b[0;34m\u001b[0m\u001b[0m\n",
      "\u001b[0;31mNotImplementedError\u001b[0m: "
     ]
    }
   ],
   "source": [
    "nspins = 2\n",
    "for n in range(nspins):\n",
    "        for k in range(nspins):\n",
    "            if k == n:                                  # Diagonal element\n",
    "                Lx[n] = kron(Lx[n], sigma_x)\n",
    "                Ly[n] = TensorProduct(Ly[n], sigma_y)\n",
    "                Lz[n] = TensorProduct(Lz[n], sigma_z)\n",
    "            else:                                       # Off-diagonal element\n",
    "                Lx[n] = TensorProduct(Lx[n], unit)\n",
    "                Ly[n] = TensorProduct(Ly[n], unit)\n",
    "                Lz[n] = TensorProduct(Lz[n], unit)\n",
    "Lx, Ly, Lz"
   ]
  },
  {
   "cell_type": "code",
   "execution_count": null,
   "metadata": {},
   "outputs": [],
   "source": []
  }
 ],
 "metadata": {
  "kernelspec": {
   "display_name": "Python (nmr)",
   "language": "python",
   "name": "nmr"
  },
  "language_info": {
   "codemirror_mode": {
    "name": "ipython",
    "version": 3
   },
   "file_extension": ".py",
   "mimetype": "text/x-python",
   "name": "python",
   "nbconvert_exporter": "python",
   "pygments_lexer": "ipython3",
   "version": "3.7.3"
  }
 },
 "nbformat": 4,
 "nbformat_minor": 2
}
