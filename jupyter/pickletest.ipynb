{
 "cells": [
  {
   "cell_type": "code",
   "execution_count": 16,
   "metadata": {},
   "outputs": [],
   "source": [
    "import os\n",
    "import sys\n",
    "module_path = os.path.abspath(os.path.join('..'))\n",
    "if module_path not in sys.path:\n",
    "    sys.path.append(module_path)"
   ]
  },
  {
   "cell_type": "code",
   "execution_count": 17,
   "metadata": {},
   "outputs": [
    {
     "data": {
      "text/html": [
       "<style>.container { width:100% !important; }</style>"
      ],
      "text/plain": [
       "<IPython.core.display.HTML object>"
      ]
     },
     "metadata": {},
     "output_type": "display_data"
    }
   ],
   "source": [
    "from IPython.core.display import display, HTML\n",
    "display(HTML(\"<style>.container { width:100% !important; }</style>\"))\n",
    "import numpy as np\n",
    "from scipy.sparse import lil_matrix\n",
    "\n",
    "\n",
    "import nmrtools"
   ]
  },
  {
   "cell_type": "code",
   "execution_count": 18,
   "metadata": {},
   "outputs": [],
   "source": [
    "def spin8():\n",
    "    v = np.array([85, 120, 160, 185, 205, 215, 235, 260])\n",
    "    # Note: previous version used a scipy lil_matrix for J, but hamiltonian\n",
    "    # gave a dimension mismatch. Changed to a np matrix and worked.\n",
    "    J = np.zeros((8, 8))\n",
    "    J[0, 1] = -12\n",
    "    J[0, 2] = 6\n",
    "    J[0, 3] = 2\n",
    "    # J[0, 4] = 0\n",
    "    # J[0, 5] = 0\n",
    "    # J[0, 6] = 0\n",
    "    # J[0, 7] = 0\n",
    "    # J[1, 2] = 0\n",
    "    # J[1, 3] = 0\n",
    "    J[1, 4] = 14\n",
    "    # J[1, 5] = 0\n",
    "    # J[1, 6] = 0\n",
    "    J[1, 7] = 3\n",
    "    # J[2, 3] = 0\n",
    "    # J[2, 4] = 0\n",
    "    J[2, 5] = 3\n",
    "    # J[2, 6] = 0\n",
    "    # J[2, 7] = 0\n",
    "    # J[3, 4] = 0\n",
    "    J[3, 5] = 5\n",
    "    # J[3, 6] = 0\n",
    "    # J[3, 7] = 0\n",
    "    J[4, 5] = 2\n",
    "    # J[4, 6] = 0\n",
    "    # J[4, 7] = 0\n",
    "    # J[5, 6] = 0\n",
    "    # J[5, 7] = 0\n",
    "    J[6, 7] = 12\n",
    "    J = J + J.T\n",
    "    return v, J"
   ]
  },
  {
   "cell_type": "code",
   "execution_count": 19,
   "metadata": {},
   "outputs": [
    {
     "name": "stdout",
     "output_type": "stream",
     "text": [
      "[ 85 120 160 185 205 215 235 260]\n",
      "[[  0. -12.   6.   2.   0.   0.   0.   0.]\n",
      " [-12.   0.   0.   0.  14.   0.   0.   3.]\n",
      " [  6.   0.   0.   0.   0.   3.   0.   0.]\n",
      " [  2.   0.   0.   0.   0.   5.   0.   0.]\n",
      " [  0.  14.   0.   0.   0.   2.   0.   0.]\n",
      " [  0.   0.   3.   5.   2.   0.   0.   0.]\n",
      " [  0.   0.   0.   0.   0.   0.   0.  12.]\n",
      " [  0.   3.   0.   0.   0.   0.  12.   0.]]\n"
     ]
    }
   ],
   "source": [
    "v, J = spin8()\n",
    "print(v)\n",
    "print(J)"
   ]
  },
  {
   "cell_type": "code",
   "execution_count": 20,
   "metadata": {},
   "outputs": [
    {
     "data": {
      "text/plain": [
       "matrix([[ 741.25,    0.  ,    0.  , ...,    0.  ,    0.  ,    0.  ],\n",
       "        [   0.  ,  473.75,    6.  , ...,    0.  ,    0.  ,    0.  ],\n",
       "        [   0.  ,    6.  ,  500.25, ...,    0.  ,    0.  ,    0.  ],\n",
       "        ...,\n",
       "        [   0.  ,    0.  ,    0.  , ..., -494.75,    6.  ,    0.  ],\n",
       "        [   0.  ,    0.  ,    0.  , ...,    6.  , -471.25,    0.  ],\n",
       "        [   0.  ,    0.  ,    0.  , ...,    0.  ,    0.  , -723.75]])"
      ]
     },
     "execution_count": 20,
     "metadata": {},
     "output_type": "execute_result"
    }
   ],
   "source": [
    "H = nmrtools.nmrmath.hamiltonian(v, J)\n",
    "H"
   ]
  },
  {
   "cell_type": "code",
   "execution_count": 1,
   "metadata": {},
   "outputs": [],
   "source": [
    "# help(nmrtools.nmrmath)"
   ]
  },
  {
   "cell_type": "code",
   "execution_count": 22,
   "metadata": {},
   "outputs": [],
   "source": [
    "import pickle"
   ]
  },
  {
   "cell_type": "code",
   "execution_count": 23,
   "metadata": {},
   "outputs": [],
   "source": [
    "with open('hamiltonian.pickle', 'wb') as f:\n",
    "    # Pickle the 'data' dictionary using the highest protocol available.\n",
    "    pickle.dump(H, f, pickle.HIGHEST_PROTOCOL)"
   ]
  },
  {
   "cell_type": "code",
   "execution_count": 24,
   "metadata": {},
   "outputs": [
    {
     "data": {
      "text/plain": [
       "matrix([[ 741.25,    0.  ,    0.  , ...,    0.  ,    0.  ,    0.  ],\n",
       "        [   0.  ,  473.75,    6.  , ...,    0.  ,    0.  ,    0.  ],\n",
       "        [   0.  ,    6.  ,  500.25, ...,    0.  ,    0.  ,    0.  ],\n",
       "        ...,\n",
       "        [   0.  ,    0.  ,    0.  , ..., -494.75,    6.  ,    0.  ],\n",
       "        [   0.  ,    0.  ,    0.  , ...,    6.  , -471.25,    0.  ],\n",
       "        [   0.  ,    0.  ,    0.  , ...,    0.  ,    0.  , -723.75]])"
      ]
     },
     "execution_count": 24,
     "metadata": {},
     "output_type": "execute_result"
    }
   ],
   "source": [
    "with open('hamiltonian.pickle', 'rb') as f:\n",
    "    # The protocol version used is detected automatically, so we do not\n",
    "    # have to specify it.\n",
    "    new_H = pickle.load(f)\n",
    "new_H"
   ]
  },
  {
   "cell_type": "code",
   "execution_count": 25,
   "metadata": {},
   "outputs": [
    {
     "data": {
      "text/plain": [
       "'h8'"
      ]
     },
     "execution_count": 25,
     "metadata": {},
     "output_type": "execute_result"
    }
   ],
   "source": [
    "s = f'h{len(v)}'\n",
    "s"
   ]
  },
  {
   "cell_type": "code",
   "execution_count": null,
   "metadata": {},
   "outputs": [],
   "source": []
  }
 ],
 "metadata": {
  "kernelspec": {
   "display_name": "Python 3",
   "language": "python",
   "name": "python3"
  },
  "language_info": {
   "codemirror_mode": {
    "name": "ipython",
    "version": 3
   },
   "file_extension": ".py",
   "mimetype": "text/x-python",
   "name": "python",
   "nbconvert_exporter": "python",
   "pygments_lexer": "ipython3",
   "version": "3.7.3"
  }
 },
 "nbformat": 4,
 "nbformat_minor": 2
}
